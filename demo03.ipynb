{
 "cells": [
  {
   "cell_type": "markdown",
   "id": "86a779a3-c073-4169-bfa0-0c5ebfc0334e",
   "metadata": {},
   "source": [
    "# 比較地圖\n",
    "範例教學 https://acorg.github.io/Racmacs/articles/making-a-map-from-scratch.html"
   ]
  },
  {
   "cell_type": "markdown",
   "id": "d3a1044a-cb2e-4c52-b01f-372105d72769",
   "metadata": {},
   "source": [
    "## 請將下方的帳號 c00cjz002 改為你的帳號"
   ]
  },
  {
   "cell_type": "code",
   "execution_count": null,
   "id": "25077118-7c6f-4d1c-a8da-dcd602ddfbf5",
   "metadata": {},
   "outputs": [],
   "source": [
    "# 確認位置\n",
    "getwd()"
   ]
  },
  {
   "cell_type": "raw",
   "id": "97df4c67-bc61-4237-9cc7-0b4b25c51a54",
   "metadata": {},
   "source": [
    "## 安裝軟體路徑\n",
    "system(\"mkdir /home/c00cjz002/R_package6\")\n",
    "\n",
    "## 新增安裝路徑\n",
    ".libPaths(c(\"/home/c00cjz002/R_package6\"))\n",
    ".libPaths()"
   ]
  },
  {
   "cell_type": "raw",
   "id": "08df97bb-f6ea-4836-a15d-3daee333f2a9",
   "metadata": {},
   "source": [
    "## 安裝 acorg/Racmacs\n",
    "library(devtools)\n",
    "devtools :: install_github(\"acorg/Racmacs\")"
   ]
  },
  {
   "cell_type": "markdown",
   "id": "d2c9948a-bd0a-46e5-bb9b-c601f7e27086",
   "metadata": {
    "tags": []
   },
   "source": [
    "# Comparing maps\n",
    "## The example map\n",
    "We'll read in the H3N2 2004 map as an example map"
   ]
  },
  {
   "cell_type": "markdown",
   "id": "157825cb-f807-492e-825c-9d181e972d72",
   "metadata": {},
   "source": [
    "### 1. 讀取 read map"
   ]
  },
  {
   "cell_type": "code",
   "execution_count": null,
   "id": "a4c64887-1311-495a-995d-2343c944d113",
   "metadata": {},
   "outputs": [],
   "source": [
    ".libPaths(c(\"/work/c00cjz002/package/R/Racmacs\"))\n",
    "library(Racmacs)\n",
    "map <- read.acmap(\"h3map2004.ace\")\n",
    "view(map)"
   ]
  },
  {
   "cell_type": "markdown",
   "id": "e353c903-140b-403d-9ae7-a14ad89f7782",
   "metadata": {},
   "source": [
    "### 2. Comparing optimization runs\n",
    "We can use the procrustesMap() function to compare the top 2 optimization runs."
   ]
  },
  {
   "cell_type": "code",
   "execution_count": null,
   "id": "d9488198-4278-4a83-9220-133a0ac5f12f",
   "metadata": {},
   "outputs": [],
   "source": [
    "pc_run12 <- procrustesMap(\n",
    "  map                            = map,\n",
    "  comparison_map                 = map,\n",
    "  optimization_number            = 1,\n",
    "  comparison_optimization_number = 2\n",
    ")\n",
    "\n",
    "view(pc_run12)"
   ]
  },
  {
   "cell_type": "code",
   "execution_count": null,
   "id": "252614fe-7231-4668-b182-ca3602f29e61",
   "metadata": {},
   "outputs": [],
   "source": []
  }
 ],
 "metadata": {
  "kernelspec": {
   "display_name": "Image_R",
   "language": "R",
   "name": "image_r"
  },
  "language_info": {
   "codemirror_mode": "r",
   "file_extension": ".r",
   "mimetype": "text/x-r-source",
   "name": "R",
   "pygments_lexer": "r",
   "version": "4.1.1"
  }
 },
 "nbformat": 4,
 "nbformat_minor": 5
}
