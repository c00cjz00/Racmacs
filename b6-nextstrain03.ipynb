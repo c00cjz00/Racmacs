{
 "cells": [
  {
   "cell_type": "markdown",
   "id": "7c215052-7b21-4837-a500-b2ed7f4918a4",
   "metadata": {},
   "source": [
    "# Nextstrain"
   ]
  },
  {
   "cell_type": "code",
   "execution_count": null,
   "id": "3d637f29-5a00-4244-9138-bade3ce4a5d1",
   "metadata": {},
   "outputs": [],
   "source": [
    "# 1\n",
    "## 下載數據 (Python 3)\n",
    "!mkdir -p ~/Racmacs/nextstrain/myfile\n",
    "%cd ~/Racmacs/nextstrain/myfile\n",
    "!rm -rf results/\n",
    "!mkdir -p results/"
   ]
  },
  {
   "cell_type": "markdown",
   "id": "a4d7912b-c367-4df5-a776-56af7fd6b34f",
   "metadata": {},
   "source": [
    "### 切換環境 (Image nextstain)"
   ]
  },
  {
   "cell_type": "code",
   "execution_count": null,
   "id": "36c2d440-3c24-4363-9ab0-223008b0def6",
   "metadata": {},
   "outputs": [],
   "source": [
    "# 2\n",
    "## 建置metadata\n",
    "## metadata for gisaid data, gisaid.fasta \n",
    "## Isolate name | Isolate ID | Segment | Collection date | Type\n",
    "%cd ~/Racmacs/nextstrain/myfile\n",
    "!augur parse \\\n",
    "    --sequences gisaid.fasta \\\n",
    "    --fields strain accession segment date virus \\\n",
    "    --output-sequences results/sequences.fasta \\\n",
    "    --output-metadata results/metadata.tsv"
   ]
  },
  {
   "cell_type": "code",
   "execution_count": null,
   "id": "d8e3c61b-7dc1-4f81-83ca-9a964b0a3d23",
   "metadata": {},
   "outputs": [],
   "source": [
    "# 3\n",
    "## Index the Sequences\n",
    "%cd ~/Racmacs/nextstrain/myfile\n",
    "!augur index \\\n",
    "  --sequences results/sequences.fasta \\\n",
    "  --output results/sequence_index.tsv"
   ]
  },
  {
   "cell_type": "code",
   "execution_count": null,
   "id": "78223423-d16c-4656-9e25-05944cd6f6b7",
   "metadata": {},
   "outputs": [],
   "source": [
    "# 4\n",
    "## Filter the Sequences\n",
    "%cd ~/Racmacs/nextstrain/myfile\n",
    "!augur filter \\\n",
    "  --sequences results/sequences.fasta \\\n",
    "  --sequence-index results/sequence_index.tsv \\\n",
    "  --metadata results/metadata.tsv \\\n",
    "  --output results/filtered.fasta \\\n",
    "  --min-length 1500"
   ]
  },
  {
   "cell_type": "code",
   "execution_count": null,
   "id": "0a4877eb-e544-4dcf-99cc-1375c9c2053c",
   "metadata": {},
   "outputs": [],
   "source": [
    "# 5\n",
    "## Align the Sequences\n",
    "%cd ~/Racmacs/nextstrain/myfile\n",
    "!augur align \\\n",
    "  --sequences results/filtered.fasta \\\n",
    "  --reference-sequence ~/Racmacs/nextstrain/avian-flu/config/reference_h5n1_ha.gb \\\n",
    "  --output results/aligned.fasta \\\n",
    "  --fill-gaps"
   ]
  },
  {
   "cell_type": "code",
   "execution_count": null,
   "id": "3ad3a274-07af-4a38-9365-6ba73eb2f7cb",
   "metadata": {},
   "outputs": [],
   "source": [
    "# 6\n",
    "## Construct the Phylogeny\n",
    "## http://etetoolkit.org/treeview/\n",
    "%cd ~/Racmacs/nextstrain/myfile\n",
    "!augur tree \\\n",
    "    --alignment results/aligned.fasta \\\n",
    "    --output results/tree_raw.nwk \\\n",
    "    --method iqtree \\\n",
    "    --nthreads 1"
   ]
  },
  {
   "cell_type": "code",
   "execution_count": null,
   "id": "59d0013b-3ca8-4131-986c-92480cbaebfe",
   "metadata": {},
   "outputs": [],
   "source": [
    "# 7\n",
    "## tree refine\n",
    "%cd ~/Racmacs/nextstrain/myfile\n",
    "!augur refine \\\n",
    "  --tree results/tree_raw.nwk \\\n",
    "  --alignment results/aligned.fasta \\\n",
    "  --metadata results/metadata.tsv \\\n",
    "  --output-tree results/tree.nwk \\\n",
    "  --output-node-data results/branch_lengths.json \\\n",
    "  --timetree \\\n",
    "  --coalescent const \\\n",
    "  --date-confidence \\\n",
    "  --date-inference marginal \\\n",
    "  --clock-filter-iqd 4"
   ]
  },
  {
   "cell_type": "code",
   "execution_count": null,
   "id": "5cd658b9-934a-489c-a5ce-3a67dac5e504",
   "metadata": {},
   "outputs": [],
   "source": [
    "# 8\n",
    "## ancestral\n",
    "%cd ~/Racmacs/nextstrain/myfile\n",
    "!augur ancestral \\\n",
    "  --tree results/tree.nwk \\\n",
    "  --alignment results/aligned.fasta \\\n",
    "  --output-node-data results/nt_muts.json \\\n",
    "  --inference joint"
   ]
  },
  {
   "cell_type": "code",
   "execution_count": null,
   "id": "fcb93261-6e7b-42a9-acba-d9fe0b0a726d",
   "metadata": {},
   "outputs": [],
   "source": [
    "# 9\n",
    "## translate\n",
    "%cd ~/Racmacs/nextstrain/myfile\n",
    "!augur translate \\\n",
    "  --tree results/tree.nwk \\\n",
    "  --ancestral-sequences results/nt_muts.json \\\n",
    "  --reference-sequence ~/Racmacs/nextstrain/avian-flu/config/reference_h5n1_ha.gb \\\n",
    "  --output-node-data results/aa_muts.json"
   ]
  },
  {
   "cell_type": "code",
   "execution_count": null,
   "id": "529853b6-2ed9-4300-8fe5-59c235c6c28a",
   "metadata": {},
   "outputs": [],
   "source": [
    "# 10\n",
    "## traits\n",
    "%cd ~/Racmacs/nextstrain/myfile\n",
    "!augur traits \\\n",
    "  --tree results/tree.nwk \\\n",
    "  --metadata results/metadata.tsv \\\n",
    "  --output-node-data results/traits.json \\\n",
    "  --columns country \\\n",
    "  --confidence"
   ]
  },
  {
   "cell_type": "code",
   "execution_count": null,
   "id": "b441f414-a51c-4a9d-b42c-121daeed6cf2",
   "metadata": {},
   "outputs": [],
   "source": [
    "# 11\n",
    "## export json\n",
    "%cd ~/Racmacs/nextstrain/myfile\n",
    "!augur export v2 \\\n",
    "  --tree results/tree.nwk \\\n",
    "  --metadata results/metadata.tsv \\\n",
    "  --node-data results/branch_lengths.json \\\n",
    "              results/traits.json \\\n",
    "              results/nt_muts.json \\\n",
    "              results/aa_muts.json \\\n",
    "  --colors ~/Racmacs/nextstrain/avian-flu/config/colors_h5n1.tsv \\\n",
    "  --lat-longs ~/Racmacs/nextstrain/avian-flu/config/lat_longs_h5n1.tsv \\\n",
    "  --auspice-config ~/Racmacs/nextstrain/avian-flu/config/auspice_config_h5n1.json \\\n",
    "  --output auspice/avian-flu.json"
   ]
  },
  {
   "cell_type": "code",
   "execution_count": null,
   "id": "cc8d0de0-4d41-46c7-924b-6cf40cce502d",
   "metadata": {},
   "outputs": [],
   "source": [
    "# 12\n",
    "## 建立數據視圖\n",
    "%cd ~/Racmacs/nextstrain/myfile\n",
    "!cp /work/c00cjz002/jupyter/config.json .\n",
    "!auspice build --extend config.json"
   ]
  },
  {
   "cell_type": "code",
   "execution_count": null,
   "id": "9547ea82-b646-4aa3-a255-16c8dcb90f05",
   "metadata": {},
   "outputs": [],
   "source": [
    "## 服務器\n",
    "%cd ~/Racmacs/nextstrain/myfile\n",
    "!export PORT=12300; auspice view --datasetDir auspice"
   ]
  },
  {
   "cell_type": "code",
   "execution_count": null,
   "id": "5c82ce0d-2212-4a9c-88ff-bb6360c102ac",
   "metadata": {},
   "outputs": [],
   "source": []
  }
 ],
 "metadata": {
  "kernelspec": {
   "display_name": "Image_nextstrain",
   "language": "python",
   "name": "image_nextstrain"
  },
  "language_info": {
   "codemirror_mode": {
    "name": "ipython",
    "version": 3
   },
   "file_extension": ".py",
   "mimetype": "text/x-python",
   "name": "python",
   "nbconvert_exporter": "python",
   "pygments_lexer": "ipython3",
   "version": "3.8.12"
  }
 },
 "nbformat": 4,
 "nbformat_minor": 5
}
