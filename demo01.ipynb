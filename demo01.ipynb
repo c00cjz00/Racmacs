{
 "cells": [
  {
   "cell_type": "markdown",
   "id": "86a779a3-c073-4169-bfa0-0c5ebfc0334e",
   "metadata": {},
   "source": [
    "# 從滴度數據製作抗原圖 (I)\n",
    "範例教學 https://acorg.github.io/Racmacs/articles/making-a-map-from-scratch.html"
   ]
  },
  {
   "cell_type": "markdown",
   "id": "d3a1044a-cb2e-4c52-b01f-372105d72769",
   "metadata": {},
   "source": [
    "## 請將下方的帳號 c00cjz002 改為你的帳號"
   ]
  },
  {
   "cell_type": "code",
   "execution_count": null,
   "id": "25077118-7c6f-4d1c-a8da-dcd602ddfbf5",
   "metadata": {},
   "outputs": [],
   "source": [
    "# 確認位置\n",
    "getwd()"
   ]
  },
  {
   "cell_type": "raw",
   "id": "97df4c67-bc61-4237-9cc7-0b4b25c51a54",
   "metadata": {},
   "source": [
    "## 安裝軟體路徑\n",
    "system(\"mkdir /home/c00cjz002/R_package6\")\n",
    "\n",
    "## 新增安裝路徑\n",
    ".libPaths(c(\"/home/c00cjz002/R_package6\"))\n",
    ".libPaths()"
   ]
  },
  {
   "cell_type": "raw",
   "id": "08df97bb-f6ea-4836-a15d-3daee333f2a9",
   "metadata": {},
   "source": [
    "## 安裝 acorg/Racmacs\n",
    "library(devtools)\n",
    "devtools :: install_github(\"acorg/Racmacs\")"
   ]
  },
  {
   "cell_type": "markdown",
   "id": "d2c9948a-bd0a-46e5-bb9b-c601f7e27086",
   "metadata": {
    "tags": []
   },
   "source": [
    "## 從滴度數據製作抗原圖 Making an antigenic map from titer data\n",
    "- 1. 讀入滴度數據 Reading in the titer data\n",
    "- 2. 創建 acmap 物件 Creating the acmap object\n",
    "- 3. 運行一組優化以嘗試找到表示數據的最佳圖表 Running a set of optimizations to try and find the best map to represent the data\n",
    "- 4. 查看圖表 Viewing the map\n",
    "- 5. 保存圖表 Saving the map"
   ]
  },
  {
   "cell_type": "markdown",
   "id": "19bf7203-9a1b-47d8-b0ca-0a1361347015",
   "metadata": {},
   "source": [
    "### 1. 讀入滴度數據 Reading in the titer data"
   ]
  },
  {
   "cell_type": "code",
   "execution_count": null,
   "id": "98aec557-4cef-4897-a1b7-e9cf934e93cc",
   "metadata": {},
   "outputs": [],
   "source": [
    "# 設定Racmacs路徑\n",
    ".libPaths(c(\"/work/c00cjz002/package/R/Racmacs\"))\n",
    "# 載入 Racmacs 套件\n",
    "library(Racmacs)\n",
    "\n",
    "titer_table        <- read.titerTable(\"simple_map.csv\")\n",
    "titer_table"
   ]
  },
  {
   "cell_type": "markdown",
   "id": "7335b0d3-d275-4149-8e1f-6fb66aa31ac8",
   "metadata": {},
   "source": [
    "### 2. 創建 acmap 物件 Creating the acmap object"
   ]
  },
  {
   "cell_type": "code",
   "execution_count": null,
   "id": "79b47971-ac33-405f-99cd-1c0fab684fa9",
   "metadata": {},
   "outputs": [],
   "source": [
    "# Create the acmap object, specifying the titer table\n",
    "map <- acmap(\n",
    "  titer_table = titer_table\n",
    ")"
   ]
  },
  {
   "cell_type": "markdown",
   "id": "2d608d1d-db29-48da-9f90-eeecb172d39b",
   "metadata": {},
   "source": [
    "### 3. 運行一組優化以嘗試找到表示數據的最佳圖表 Running a set of optimizations to try and find the best map to represent the data"
   ]
  },
  {
   "cell_type": "code",
   "execution_count": null,
   "id": "95a71a7a-b757-43c5-a63a-d92b8781ab4e",
   "metadata": {},
   "outputs": [],
   "source": [
    "# Perform some optimization runs on the map object to try and determine a best map\n",
    "map <- optimizeMap(\n",
    "  map                     = map,\n",
    "  number_of_dimensions    = 2,\n",
    "  number_of_optimizations = 500,\n",
    "  minimum_column_basis    = \"none\"\n",
    ")"
   ]
  },
  {
   "cell_type": "code",
   "execution_count": null,
   "id": "0c9b6abe-b783-47f7-968e-ff83b20b8a90",
   "metadata": {},
   "outputs": [],
   "source": [
    "# 3.1 logtiterTable(map)\n",
    "logtiterTable(map)"
   ]
  },
  {
   "cell_type": "code",
   "execution_count": null,
   "id": "ce3644b3-9c6d-4f5c-974e-b4ee7c056f4f",
   "metadata": {},
   "outputs": [],
   "source": [
    "# 3.2 distanceTable(map)\n",
    "distanceTable <- tableDistances(map, optimization_number = 1)\n",
    "distanceTable"
   ]
  },
  {
   "cell_type": "code",
   "execution_count": null,
   "id": "6698d7fe-2725-40d2-828f-f7bfde92b5b6",
   "metadata": {},
   "outputs": [],
   "source": [
    "# 3.3 mapDistances\n",
    "mapDistances <-  mapDistances(map, optimization_number = 1)\n",
    "mapDistances"
   ]
  },
  {
   "cell_type": "code",
   "execution_count": null,
   "id": "924a43c7-3b3e-463a-9dd7-e5c14d610f53",
   "metadata": {},
   "outputs": [],
   "source": [
    "# 3.4 stressTable\n",
    "stressTable <- stressTable(map, optimization_number = 1)\n",
    "stressTable"
   ]
  },
  {
   "cell_type": "markdown",
   "id": "4571e269-9d69-42ed-bfe4-aaf99024225a",
   "metadata": {},
   "source": [
    "### 4. 查看圖表 Viewing the map"
   ]
  },
  {
   "cell_type": "code",
   "execution_count": null,
   "id": "85a22ef7-752b-4f93-a6ee-1aef885ee17c",
   "metadata": {},
   "outputs": [],
   "source": [
    "plot(map)"
   ]
  },
  {
   "cell_type": "markdown",
   "id": "34593535-cb5a-4bb4-8156-1e55e93455c3",
   "metadata": {},
   "source": [
    "or you can view the map interactively using the `view()` function"
   ]
  },
  {
   "cell_type": "code",
   "execution_count": null,
   "id": "2bc8b9bc-63c7-4a45-82f0-b9e308cb2bee",
   "metadata": {},
   "outputs": [],
   "source": [
    "# view(map)"
   ]
  },
  {
   "cell_type": "markdown",
   "id": "021d4d81-7a58-402b-9780-b52ffb64c5d5",
   "metadata": {},
   "source": [
    "### 5. 保存圖表 Saving the map"
   ]
  },
  {
   "cell_type": "code",
   "execution_count": null,
   "id": "3c4291b7-8671-490f-b97f-6678627334bd",
   "metadata": {},
   "outputs": [],
   "source": [
    "save.acmap(\n",
    "  map,\n",
    "  \"demo01.ace\",\n",
    "  compress = FALSE,\n",
    "  round_titers = FALSE\n",
    ")"
   ]
  },
  {
   "cell_type": "markdown",
   "id": "157825cb-f807-492e-825c-9d181e972d72",
   "metadata": {},
   "source": [
    "### 6. 讀取 read map"
   ]
  },
  {
   "cell_type": "code",
   "execution_count": null,
   "id": "a4c64887-1311-495a-995d-2343c944d113",
   "metadata": {},
   "outputs": [],
   "source": [
    ".libPaths(c(\"/work/c00cjz002/package/R/Racmacs\"))\n",
    "library(Racmacs)\n",
    "map <- read.acmap(\"demo01.ace\")\n",
    "view(map)"
   ]
  },
  {
   "cell_type": "code",
   "execution_count": null,
   "id": "5d050145-cccc-4a09-94b1-9fda5de0e22d",
   "metadata": {},
   "outputs": [],
   "source": []
  }
 ],
 "metadata": {
  "kernelspec": {
   "display_name": "Image_R",
   "language": "R",
   "name": "image_r"
  },
  "language_info": {
   "codemirror_mode": "r",
   "file_extension": ".r",
   "mimetype": "text/x-r-source",
   "name": "R",
   "pygments_lexer": "r",
   "version": "4.1.1"
  }
 },
 "nbformat": 4,
 "nbformat_minor": 5
}
