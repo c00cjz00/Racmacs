{
 "cells": [
  {
   "cell_type": "markdown",
   "id": "7c215052-7b21-4837-a500-b2ed7f4918a4",
   "metadata": {},
   "source": [
    "# Nextstrain"
   ]
  },
  {
   "cell_type": "raw",
   "id": "b69c2899-d6b2-41a7-aa83-8e090fe11622",
   "metadata": {},
   "source": [
    "# 下載數據 (Python 3)\n",
    "!mkdir -p ~/Racmacs/nextstrain\n",
    "%cd ~/Racmacs/nextstrain\n",
    "!git clone https://github.com/nextstrain/zika-tutorial.git "
   ]
  },
  {
   "cell_type": "markdown",
   "id": "a4d7912b-c367-4df5-a776-56af7fd6b34f",
   "metadata": {},
   "source": [
    "### 切換環境 (Image nextstain)"
   ]
  },
  {
   "cell_type": "code",
   "execution_count": null,
   "id": "36c2d440-3c24-4363-9ab0-223008b0def6",
   "metadata": {},
   "outputs": [],
   "source": [
    "## 進行編譯\n",
    "%cd ~/Racmacs/nextstrain/zika-tutorial\n",
    "!nextstrain build --cpus 2 ."
   ]
  },
  {
   "cell_type": "code",
   "execution_count": null,
   "id": "d8e3c61b-7dc1-4f81-83ca-9a964b0a3d23",
   "metadata": {},
   "outputs": [],
   "source": [
    "%cd ~/Racmacs/nextstrain/zika-tutorial\n",
    "!cp /work/c00cjz002/jupyter/config.json .\n",
    "!auspice build --extend config.json"
   ]
  },
  {
   "cell_type": "code",
   "execution_count": null,
   "id": "78223423-d16c-4656-9e25-05944cd6f6b7",
   "metadata": {},
   "outputs": [],
   "source": [
    "## 服務器\n",
    "%cd ~/Racmacs/nextstrain/zika-tutorial\n",
    "!export PORT=12300; auspice view --datasetDir auspice"
   ]
  },
  {
   "cell_type": "code",
   "execution_count": null,
   "id": "0a4877eb-e544-4dcf-99cc-1375c9c2053c",
   "metadata": {},
   "outputs": [],
   "source": []
  }
 ],
 "metadata": {
  "kernelspec": {
   "display_name": "Image_nextstrain",
   "language": "python",
   "name": "image_nextstrain"
  },
  "language_info": {
   "codemirror_mode": {
    "name": "ipython",
    "version": 3
   },
   "file_extension": ".py",
   "mimetype": "text/x-python",
   "name": "python",
   "nbconvert_exporter": "python",
   "pygments_lexer": "ipython3",
   "version": "3.8.12"
  }
 },
 "nbformat": 4,
 "nbformat_minor": 5
}
