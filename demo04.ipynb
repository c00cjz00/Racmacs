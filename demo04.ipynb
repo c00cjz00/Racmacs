{
 "cells": [
  {
   "cell_type": "markdown",
   "id": "86a779a3-c073-4169-bfa0-0c5ebfc0334e",
   "metadata": {},
   "source": [
    "# 處理序列數據\n",
    "範例教學 https://acorg.github.io/Racmacs/articles/making-a-map-from-scratch.html"
   ]
  },
  {
   "cell_type": "markdown",
   "id": "d3a1044a-cb2e-4c52-b01f-372105d72769",
   "metadata": {},
   "source": [
    "## 請將下方的帳號 c00cjz002 改為你的帳號"
   ]
  },
  {
   "cell_type": "code",
   "execution_count": null,
   "id": "25077118-7c6f-4d1c-a8da-dcd602ddfbf5",
   "metadata": {},
   "outputs": [],
   "source": [
    "# 確認位置\n",
    "getwd()"
   ]
  },
  {
   "cell_type": "raw",
   "id": "97df4c67-bc61-4237-9cc7-0b4b25c51a54",
   "metadata": {},
   "source": [
    "## 安裝軟體路徑\n",
    "system(\"mkdir /home/c00cjz002/R_package6\")\n",
    "\n",
    "## 新增安裝路徑\n",
    ".libPaths(c(\"/home/c00cjz002/R_package6\"))\n",
    ".libPaths()"
   ]
  },
  {
   "cell_type": "raw",
   "id": "08df97bb-f6ea-4836-a15d-3daee333f2a9",
   "metadata": {},
   "source": [
    "## 安裝 acorg/Racmacs\n",
    "library(devtools)\n",
    "devtools :: install_github(\"acorg/Racmacs\")"
   ]
  },
  {
   "cell_type": "markdown",
   "id": "d2c9948a-bd0a-46e5-bb9b-c601f7e27086",
   "metadata": {
    "tags": []
   },
   "source": [
    "# Working with sequence data\n",
    "在這裡，我們將介紹將序列數據添加到 2004 年 H3N2 抗原進化圖譜的過程，並展示您如何在查看器中以交互方式探索遺傳和抗原特徵之間的關係。"
   ]
  },
  {
   "cell_type": "markdown",
   "id": "157825cb-f807-492e-825c-9d181e972d72",
   "metadata": {},
   "source": [
    "### 1. 添加序列數據\n",
    "首先我們將加載 h3 地圖和序列數據，然後使用函數agSequences()和srSequences()將序列數據添加到 acmap 對象。"
   ]
  },
  {
   "cell_type": "code",
   "execution_count": null,
   "id": "a4c64887-1311-495a-995d-2343c944d113",
   "metadata": {},
   "outputs": [],
   "source": [
    ".libPaths(c(\"/work/c00cjz002/package/R/Racmacs\"))\n",
    "library(Racmacs)\n",
    "\n",
    "# Load the h3 antigenic map\n",
    "map <- read.acmap(\"h3map2004.ace\")\n",
    "\n",
    "# Load the antigen and serum sequence data\n",
    "ag_sequences <- read.csv(\n",
    "  \"h3map2004_sequences_ag.csv\",\n",
    "  colClasses = \"character\",\n",
    "  row.names = 1\n",
    ")\n",
    "\n",
    "sr_sequences <- read.csv(\n",
    "  \"h3map2004_sequences_sr.csv\",\n",
    "  colClasses = \"character\",\n",
    "  row.names = 1\n",
    ")\n",
    "\n",
    "# Add the sequence data to the map\n",
    "agSequences(map) <- ag_sequences\n",
    "srSequences(map) <- sr_sequences"
   ]
  },
  {
   "cell_type": "markdown",
   "id": "e353c903-140b-403d-9ae7-a14ad89f7782",
   "metadata": {},
   "source": [
    "### 2. 查看序列數據\n",
    "現在序列數據已添加到地圖對像中，當view()在地圖對像上調用時，它可以與地圖一起查看。"
   ]
  },
  {
   "cell_type": "code",
   "execution_count": null,
   "id": "d9488198-4278-4a83-9220-133a0ac5f12f",
   "metadata": {},
   "outputs": [],
   "source": [
    "# View the map with sequence data\n",
    "view(map)"
   ]
  },
  {
   "cell_type": "markdown",
   "id": "32bca25f-ce7d-4148-9124-fbd1ef1227e1",
   "metadata": {},
   "source": [
    "### 3. 使用序列查看器\n",
    "您應該注意到，在查看器中加載地圖後，右上角的按鈕窗口中會出現一個額外的QKNP序列按鈕，單擊該按鈕將打開序列查看器。從這裡您可以初步看到所有菌株的所有序列。\n",
    "從這一點開始，您可以使用序列查看器頂部的框按給定位置進行過濾，例如鍵入“145”以查看位置 145 處的變化。也許最有用的是，假設頂部框中不包含過濾器，當您在主地圖窗口中選擇菌株時，序列查看器將更新以僅顯示所選菌株的序列，或者，如果選擇了多個菌株，則僅顯示序列不同位置處的序列。通過這種方式，您可以調查圖譜中菌株之間觀察到的抗原差異的潛在遺傳基礎。"
   ]
  },
  {
   "cell_type": "markdown",
   "id": "ad788f06-9ef2-4084-b2c0-7089c8159acb",
   "metadata": {},
   "source": [
    "### 4. 按序列對菌株著色\n",
    "還可以使用序列數據在給定位置按序列對菌株和血清進行交互著色。為此，請單擊控件按鈕打開控制面板，然後導航到著色選項卡。在這裡，除了其他選項之外，您還應該看到一個按順序著色的按鈕。單擊此按鈕將打開一個輸入，您可以在其中鍵入要為點著色的位置編號。當你這樣做時，顏色應該改變，並且應該出現一個圖例，指示與每種顏色相關的序列差異。\n",
    "下面的查看器顯示了一個示例結果，其中點已被位置 145 處的序列差異著色。"
   ]
  }
 ],
 "metadata": {
  "kernelspec": {
   "display_name": "Image_R",
   "language": "R",
   "name": "image_r"
  },
  "language_info": {
   "codemirror_mode": "r",
   "file_extension": ".r",
   "mimetype": "text/x-r-source",
   "name": "R",
   "pygments_lexer": "r",
   "version": "4.1.1"
  }
 },
 "nbformat": 4,
 "nbformat_minor": 5
}
