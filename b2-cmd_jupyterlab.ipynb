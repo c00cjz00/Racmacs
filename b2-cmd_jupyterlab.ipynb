{
 "cells": [
  {
   "cell_type": "markdown",
   "id": "1b9dd5b7-695c-4e9c-b203-4b8a13242cc9",
   "metadata": {},
   "source": [
    "# 台灣杉三號 使用 JupyterLab 執行Linux指令"
   ]
  },
  {
   "cell_type": "markdown",
   "id": "41dfcc45-2449-4e1f-9ea7-875b37f128ea",
   "metadata": {},
   "source": [
    "## 執行方法一\n",
    "第一行加入 %%bash, 之後可加入相關連續指令"
   ]
  },
  {
   "cell_type": "code",
   "execution_count": null,
   "id": "0ec02cdd-8d44-496d-a22a-08f2ccec44bc",
   "metadata": {},
   "outputs": [],
   "source": [
    "%%bash\n",
    "ls /opt/ohpc/Taiwania3/pkg/biology\n",
    "cd /opt/ohpc/Taiwania3/pkg/biology\n",
    "pwd"
   ]
  },
  {
   "cell_type": "markdown",
   "id": "2ccecaf4-8ae1-4e0f-9a58-9c321e412fe0",
   "metadata": {},
   "source": [
    "## 執行方法二\n",
    "每行指令前面加上! 執行單一獨立指令, 故pwd顯示並無切換目錄"
   ]
  },
  {
   "cell_type": "code",
   "execution_count": null,
   "id": "41435dea-3053-43b7-be9c-b8fce18ebea4",
   "metadata": {},
   "outputs": [],
   "source": [
    "!cd /opt/ohpc/Taiwania3/pkg/biology/BLAST/BLAST_v2.12.0/bin/\n",
    "!pwd"
   ]
  },
  {
   "cell_type": "markdown",
   "id": "f8522ec9-daf8-42e8-aa2f-f217bffffb96",
   "metadata": {},
   "source": [
    "## 執行方法三\n",
    "%cd 為實際切換目錄, 故pwd顯示切換目錄"
   ]
  },
  {
   "cell_type": "code",
   "execution_count": null,
   "id": "4a2fa7e2-bcf0-46f3-87ee-41a6a9c36590",
   "metadata": {},
   "outputs": [],
   "source": [
    "%cd /opt/ohpc/Taiwania3/pkg/biology/BLAST/BLAST_v2.12.0/bin/\n",
    "!pwd"
   ]
  },
  {
   "cell_type": "code",
   "execution_count": null,
   "id": "8da849d6-e17a-40c9-a00f-e7fde98873aa",
   "metadata": {},
   "outputs": [],
   "source": []
  }
 ],
 "metadata": {
  "kernelspec": {
   "display_name": "Python 3 (ipykernel)",
   "language": "python",
   "name": "python3"
  },
  "language_info": {
   "codemirror_mode": {
    "name": "ipython",
    "version": 3
   },
   "file_extension": ".py",
   "mimetype": "text/x-python",
   "name": "python",
   "nbconvert_exporter": "python",
   "pygments_lexer": "ipython3",
   "version": "3.8.12"
  }
 },
 "nbformat": 4,
 "nbformat_minor": 5
}
